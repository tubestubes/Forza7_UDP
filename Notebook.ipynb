{
 "cells": [
  {
   "cell_type": "markdown",
   "source": [
    "# Forza 7 Telemetry Reciever\r\n",
    "[William Kane](github.com/tubestubes)  \r\n",
    "Python 3.9.4 - 19/09/21\r\n",
    "\r\n",
    "> ### Sources\r\n",
    "> - https://github.com/croozer2000/Forza-UDP-Data-Pythonhttps://github.com/croozer2000/Forza-UDP-Data-Python\r\n",
    "> - https://forums.forzamotorsport.net/turn10_postst128499p8_Forza-Motorsport-7--Data-Out--feature-details.aspx?=https://forums.forzamotorsport.net/turn10_postst128499p8_Forza-Motorsport-7--Data-Out--feature-details.aspx?=\r\n",
    "\r\n",
    "Forza outputs data 60 times per second, on 85 paramets, as 311 raw bytes.  \r\n",
    "Send the data in game to this device's IP (use ipconfit eg 192.168.1.4)"
   ],
   "metadata": {}
  },
  {
   "cell_type": "code",
   "execution_count": null,
   "source": [
    "# From the standard library\r\n",
    "import socket\r\n",
    "import struct\r\n",
    "import logging; logging.basicConfig(level=logging.INFO)"
   ],
   "outputs": [],
   "metadata": {}
  },
  {
   "cell_type": "code",
   "execution_count": null,
   "source": [
    "# Set the same port here and in the game\r\n",
    "PORT = 6969 "
   ],
   "outputs": [],
   "metadata": {}
  },
  {
   "cell_type": "code",
   "execution_count": null,
   "source": [
    "# Tools to convert raw data to numbers\r\n",
    "# The format of each of the 85 parameters.\r\n",
    "formats = ['s32','u32','f32','f32','f32','f32','f32','f32','f32','f32','f32','f32','f32','f32','f32','f32','f32',\r\n",
    "'f32','f32','f32','f32','f32','f32','f32','f32','f32','f32','f32','f32','s32','s32','s32','s32','f32','f32','f32',\r\n",
    "'f32','f32','f32','f32','f32','f32','f32','f32','f32','f32','f32','f32','f32','f32','f32','f32','f32','s32','s32',\r\n",
    "'s32','s32','s32','f32','f32','f32','f32','f32','f32','f32','f32','f32','f32','f32','f32','f32','f32','f32','f32',\r\n",
    "'f32','u16','u8','u8','u8','u8','u8','u8','s8','s8','s8'\r\n",
    "]\r\n",
    "\r\n",
    "keys = [ 'On/Off', 'Time', 'MaxRPM', 'IdleRPM', 'RPM', 'AccX', 'AccY', 'AccZ', 'VelX', 'VelY', 'VelZ', 'RotX', \r\n",
    "'RotY', 'RotZ', 'Yaw', 'Pitch', 'Roll', 'NSusFL', 'NSusFR', 'NSusRL', 'NSusRR', 'SlipFL', 'SlipFR', 'SlipRL','SlipRR', \r\n",
    "'WSpeedFL', 'WSpeedFR', 'WSpeedRL', 'WSpeedRR', 'OnRumFL', 'OnRumFR', 'OnRumRL', 'OnRumRR', 'PuddleFL', 'PuddleFR', \r\n",
    "'PuddleRL', 'PuddleRR', 'sRumFL', 'sRumFR', 'sRumRL', 'sRumRR', 'SAngFL', 'SAngFR', 'SAngRL', 'SAngRR', 'CSlipFL', \r\n",
    "'CSlipFR','CSlipRL','CSlipRR', 'SusFL', 'SusFR', 'SusRL', 'SusRR', 'Car', 'Class', 'PI', 'DriveTrain', 'NCylinders', \r\n",
    "'X', 'Y', 'Z', 'Speed', 'Power', 'Torque', 'TempFL', 'TempFR', 'TempRL', 'TempRR', 'Boost', 'Fuel', 'Dist', 'BestLap',\r\n",
    "'LastLap', 'CurrentLap', 'RaceTime', 'Lap', 'Pos', 'Acc', 'Brake', 'Clutch', 'Handbreak', 'Gear', 'Steer', 'NLine', 'AiBreak'\r\n",
    "]\r\n",
    "logging.debug(dict(zip(keys, formats)))\r\n",
    "\r\n",
    "def convert(raw):\r\n",
    "\r\n",
    "    raw_i = 0  # Working index in the raw data\r\n",
    "    output = {}\r\n",
    "\r\n",
    "    for i, fmt in enumerate(formats):\r\n",
    "\r\n",
    "        key = keys[i]\r\n",
    "        logging.debug((i,fmt, key, raw_i))\r\n",
    "\r\n",
    "        if fmt == 'f32':\r\n",
    "            output[key] = struct.unpack('<f', raw[raw_i : raw_i + 4])\r\n",
    "            raw_i = raw_i + 4 \r\n",
    "\r\n",
    "        if fmt == 'u32':\r\n",
    "            output[key] = struct.unpack('<L',raw[raw_i : raw_i + 4])\r\n",
    "            raw_i = raw_i + 4 \r\n",
    "\r\n",
    "        if fmt == 'u16':\r\n",
    "            output[key] = struct.unpack('<H',raw[raw_i : raw_i + 2])\r\n",
    "            raw_i = raw_i + 2 \r\n",
    "        \r\n",
    "        if fmt == 's32':\r\n",
    "            output[key] = struct.unpack('<i',raw[raw_i:raw_i + 4])\r\n",
    "            raw_i = raw_i + 4 \r\n",
    "        \r\n",
    "        if fmt == 'u8':\r\n",
    "            output[key] = struct.unpack('<B',raw[raw_i:raw_i + 1])\r\n",
    "            raw_i = raw_i + 1 \r\n",
    "\r\n",
    "        if fmt == 's8':\r\n",
    "            output[key] = struct.unpack('<B',raw[raw_i:raw_i + 1])\r\n",
    "            raw_i = raw_i + 1 \r\n",
    "\r\n",
    "    return output"
   ],
   "outputs": [],
   "metadata": {}
  },
  {
   "cell_type": "code",
   "execution_count": null,
   "source": [
    "# Connect to UDP and recieve packet\r\n",
    "# Running this cell collects a data sample\r\n",
    "with socket.socket(socket.AF_INET, socket.SOCK_DGRAM) as soc:\r\n",
    "    soc.bind(('', PORT))\r\n",
    "    logging.info('Connected')\r\n",
    "    raw = soc.recv(1024)\r\n",
    "    logging.info('Recieved data')\r\n",
    "logging.debug(raw)\r\n",
    "data = convert(raw)\r\n",
    "logging.debug(data)"
   ],
   "outputs": [],
   "metadata": {}
  },
  {
   "cell_type": "code",
   "execution_count": null,
   "source": [
    "# Convert data\r\n",
    "data = convert(raw)\r\n",
    "logging.debug(data)\r\n"
   ],
   "outputs": [],
   "metadata": {}
  },
  {
   "cell_type": "code",
   "execution_count": null,
   "source": [
    "data"
   ],
   "outputs": [],
   "metadata": {}
  },
  {
   "cell_type": "code",
   "execution_count": null,
   "source": [],
   "outputs": [],
   "metadata": {}
  },
  {
   "cell_type": "code",
   "execution_count": null,
   "source": [],
   "outputs": [],
   "metadata": {}
  },
  {
   "cell_type": "code",
   "execution_count": null,
   "source": [],
   "outputs": [],
   "metadata": {}
  }
 ],
 "metadata": {
  "kernelspec": {
   "name": "python3",
   "display_name": "Python 3.9.4 64-bit ('main': conda)"
  },
  "language_info": {
   "codemirror_mode": {
    "name": "ipython",
    "version": 3
   },
   "file_extension": ".py",
   "mimetype": "text/x-python",
   "name": "python",
   "nbconvert_exporter": "python",
   "pygments_lexer": "ipython3",
   "version": "3.9.4"
  },
  "interpreter": {
   "hash": "5a12af825bfd2e89b4ba3ed66ec2eb4f5c0cdf785af2c8086ce4c2c5b4bb18b8"
  }
 },
 "nbformat": 4,
 "nbformat_minor": 5
}