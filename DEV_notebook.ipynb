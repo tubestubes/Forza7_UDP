{
 "cells": [
  {
   "cell_type": "markdown",
   "source": [
    "# Forza 7 Telemetry Reciever\r\n",
    "[William Kane](github.com/tubestubes)  \r\n",
    "Python 3.9.4 - 19/09/21\r\n",
    "\r\n",
    "> ### Sources\r\n",
    "> - https://github.com/croozer2000/Forza-UDP-Data-Pythonhttps://github.com/croozer2000/Forza-UDP-Data-Python\r\n",
    "> - https://forums.forzamotorsport.net/turn10_postst128499p8_Forza-Motorsport-7--Data-Out--feature-details.aspx?=https://forums.forzamotorsport.net/turn10_postst128499p8_Forza-Motorsport-7--Data-Out--feature-details.aspx?=\r\n"
   ],
   "metadata": {}
  },
  {
   "cell_type": "code",
   "execution_count": 2,
   "source": [
    "# From the standard library\r\n",
    "import socket\r\n",
    "import struct\r\n",
    "import logging; logging.basicConfig(level=logging.WARNING)\r\n",
    "import time\r\n",
    "\r\n",
    "#!pip install jupyterplot\r\n",
    "import jupyterplot\r\n",
    "import pandas as pd"
   ],
   "outputs": [],
   "metadata": {}
  },
  {
   "cell_type": "code",
   "execution_count": 3,
   "source": [
    "# Set the same port here and in the game\r\n",
    "PORT = 6969 "
   ],
   "outputs": [],
   "metadata": {}
  },
  {
   "cell_type": "code",
   "execution_count": 4,
   "source": [
    "# Tools to convert raw data to numbers\r\n",
    "# The format of each of the 85 parameters.\r\n",
    "formats = ['s32','u32','f32','f32','f32','f32','f32','f32','f32','f32','f32','f32','f32','f32','f32','f32','f32',\r\n",
    "'f32','f32','f32','f32','f32','f32','f32','f32','f32','f32','f32','f32','s32','s32','s32','s32','f32','f32','f32',\r\n",
    "'f32','f32','f32','f32','f32','f32','f32','f32','f32','f32','f32','f32','f32','f32','f32','f32','f32','s32','s32',\r\n",
    "'s32','s32','s32','f32','f32','f32','f32','f32','f32','f32','f32','f32','f32','f32','f32','f32','f32','f32','f32',\r\n",
    "'f32','u16','u8','u8','u8','u8','u8','u8','s8','s8','s8'\r\n",
    "]\r\n",
    "\r\n",
    "keys = [ 'On/Off', 'Time', 'MaxRPM', 'IdleRPM', 'RPM', 'AccX', 'AccY', 'AccZ', 'VelX', 'VelY', 'VelZ', 'RotX', \r\n",
    "'RotY', 'RotZ', 'Yaw', 'Pitch', 'Roll', 'NSusFL', 'NSusFR', 'NSusRL', 'NSusRR', 'SlipFL', 'SlipFR', 'SlipRL','SlipRR', \r\n",
    "'WSpeedFL', 'WSpeedFR', 'WSpeedRL', 'WSpeedRR', 'OnRumFL', 'OnRumFR', 'OnRumRL', 'OnRumRR', 'PuddleFL', 'PuddleFR', \r\n",
    "'PuddleRL', 'PuddleRR', 'sRumFL', 'sRumFR', 'sRumRL', 'sRumRR', 'SAngFL', 'SAngFR', 'SAngRL', 'SAngRR', 'CSlipFL', \r\n",
    "'CSlipFR','CSlipRL','CSlipRR', 'SusFL', 'SusFR', 'SusRL', 'SusRR', 'Car', 'Class', 'PI', 'DriveTrain', 'NCylinders', \r\n",
    "'X', 'Y', 'Z', 'Speed', 'Power', 'Torque', 'TempFL', 'TempFR', 'TempRL', 'TempRR', 'Boost', 'Fuel', 'Dist', 'BestLap',\r\n",
    "'LastLap', 'CurrentLap', 'RaceTime', 'Lap', 'Pos', 'Acc', 'Brake', 'Clutch', 'Handbreak', 'Gear', 'Steer', 'NLine', 'AiBreak'\r\n",
    "]\r\n",
    "logging.debug(dict(zip(keys, formats)))\r\n",
    "\r\n",
    "def convert(raw):\r\n",
    "\r\n",
    "    raw_i = 0  # Working index in the raw data\r\n",
    "    output = {}\r\n",
    "\r\n",
    "    for i, fmt in enumerate(formats):\r\n",
    "\r\n",
    "        key = keys[i]\r\n",
    "        logging.debug((i,fmt, key, raw_i))\r\n",
    "\r\n",
    "        if fmt == 'f32':\r\n",
    "            output[key] = struct.unpack('<f', raw[raw_i : raw_i + 4])[0]\r\n",
    "            raw_i = raw_i + 4 \r\n",
    "\r\n",
    "        if fmt == 'u32':\r\n",
    "            output[key] = struct.unpack('<L',raw[raw_i : raw_i + 4])[0]\r\n",
    "            raw_i = raw_i + 4 \r\n",
    "\r\n",
    "        if fmt == 'u16':\r\n",
    "            output[key] = struct.unpack('<H',raw[raw_i : raw_i + 2])[0]\r\n",
    "            raw_i = raw_i + 2 \r\n",
    "        \r\n",
    "        if fmt == 's32':\r\n",
    "            output[key] = struct.unpack('<i',raw[raw_i:raw_i + 4])[0]\r\n",
    "            raw_i = raw_i + 4 \r\n",
    "        \r\n",
    "        if fmt == 'u8':\r\n",
    "            output[key] = struct.unpack('<B',raw[raw_i:raw_i + 1])[0]\r\n",
    "            raw_i = raw_i + 1 \r\n",
    "\r\n",
    "        if fmt == 's8':\r\n",
    "            output[key] = struct.unpack('<B',raw[raw_i:raw_i + 1])[0]\r\n",
    "            raw_i = raw_i + 1 \r\n",
    "\r\n",
    "    return output"
   ],
   "outputs": [],
   "metadata": {}
  },
  {
   "cell_type": "code",
   "execution_count": null,
   "source": [
    "# Connect to UDP and receive packet\r\n",
    "def receive(port:int ):\r\n",
    "    with socket.socket(socket.AF_INET, socket.SOCK_DGRAM) as soc:\r\n",
    "        soc.bind(('', port))\r\n",
    "        raw = soc.recv(port)\r\n",
    "        logging.info('Received data')\r\n",
    "    logging.debug(raw)\r\n",
    "\r\n",
    "    data = convert(raw)\r\n",
    "    return data\r\n",
    "\r\n",
    "def receive_one(port:int, param:str ):\r\n",
    "    with socket.socket(socket.AF_INET, socket.SOCK_DGRAM) as soc:\r\n",
    "        soc.bind(('', port))\r\n",
    "        raw = soc.recv(port)\r\n",
    "        logging.info('Received data')\r\n",
    "    logging.debug(raw)\r\n",
    "\r\n",
    "    data = convert(raw)\r\n",
    "    return data[param]"
   ],
   "outputs": [],
   "metadata": {}
  },
  {
   "cell_type": "code",
   "execution_count": null,
   "source": [
    "# Record one paramater live, with graph\r\n",
    "def record_one(port, param, length):\r\n",
    "    points = []\r\n",
    "    plot = jupyterplot.ProgressPlot()\r\n",
    "    start = time.time()\r\n",
    "    while time.time() < start + length:\r\n",
    "        data = receive(port)\r\n",
    "        points.append( data[param])\r\n",
    "        plot.update(data[param])\r\n",
    "    plot.finalize()\r\n",
    "    return points\r\n",
    "\r\n",
    "def record_list(port, params: list, length):\r\n",
    "    points = []\r\n",
    "    plot = jupyterplot.ProgressPlot(line_names=params)\r\n",
    "    start = time.time()\r\n",
    "    while time.time() < start + length:\r\n",
    "        data = receive(port)\r\n",
    "        points.append( [data[param] for param in params] )\r\n",
    "        plot.update( [[data[param] for param in params]] )\r\n",
    "    plot.finalize()\r\n",
    "    return points\r\n"
   ],
   "outputs": [],
   "metadata": {}
  },
  {
   "cell_type": "code",
   "execution_count": null,
   "source": [
    "# Live demo\r\n",
    "data = record_list(PORT, ['Speed', 'Acc','Brake', 'Gear', 'Lap'], 60*3)"
   ],
   "outputs": [],
   "metadata": {}
  },
  {
   "cell_type": "code",
   "execution_count": null,
   "source": [
    "data"
   ],
   "outputs": [],
   "metadata": {}
  },
  {
   "cell_type": "code",
   "execution_count": null,
   "source": [
    "df = pd.DataFrame(data, columns=['Speed', 'Acc','Brake', 'Gear', 'Lap'])\r\n",
    "lap0 = df[df['Lap']==0]\r\n",
    "lap0['Gear'] = lap0['Gear']*10\r\n",
    "lap0.plot()"
   ],
   "outputs": [],
   "metadata": {}
  },
  {
   "cell_type": "code",
   "execution_count": 7,
   "source": [
    "pd.DataFrame(zip(keys, formats)).to_csv('key.csv')"
   ],
   "outputs": [],
   "metadata": {}
  },
  {
   "cell_type": "code",
   "execution_count": null,
   "source": [],
   "outputs": [],
   "metadata": {}
  }
 ],
 "metadata": {
  "kernelspec": {
   "name": "python3",
   "display_name": "Python 3.9.4 64-bit ('main': conda)"
  },
  "language_info": {
   "codemirror_mode": {
    "name": "ipython",
    "version": 3
   },
   "file_extension": ".py",
   "mimetype": "text/x-python",
   "name": "python",
   "nbconvert_exporter": "python",
   "pygments_lexer": "ipython3",
   "version": "3.9.4"
  },
  "interpreter": {
   "hash": "5a12af825bfd2e89b4ba3ed66ec2eb4f5c0cdf785af2c8086ce4c2c5b4bb18b8"
  }
 },
 "nbformat": 4,
 "nbformat_minor": 5
}